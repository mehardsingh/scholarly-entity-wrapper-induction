{
  "cells": [
    {
      "cell_type": "markdown",
      "metadata": {
        "id": "D5LavEFO3pnk"
      },
      "source": [
        "# Automatic, Unsupervised Wrapper Induction"
      ]
    },
    {
      "cell_type": "code",
      "execution_count": null,
      "metadata": {
        "colab": {
          "base_uri": "https://localhost:8080/"
        },
        "id": "Sali_P9uEE44",
        "outputId": "df5e021d-6ae4-429f-e8d5-4713e77a53d1"
      },
      "outputs": [
        {
          "name": "stdout",
          "output_type": "stream",
          "text": [
            "2023-04-12 00:49:34.480589: W tensorflow/compiler/tf2tensorrt/utils/py_utils.cc:38] TF-TRT Warning: Could not find TensorRT\n",
            "Looking in indexes: https://pypi.org/simple, https://us-python.pkg.dev/colab-wheels/public/simple/\n",
            "Collecting en-core-web-md==3.5.0\n",
            "  Downloading https://github.com/explosion/spacy-models/releases/download/en_core_web_md-3.5.0/en_core_web_md-3.5.0-py3-none-any.whl (42.8 MB)\n",
            "\u001b[2K     \u001b[90m━━━━━━━━━━━━━━━━━━━━━━━━━━━━━━━━━━━━━━━━\u001b[0m \u001b[32m42.8/42.8 MB\u001b[0m \u001b[31m15.6 MB/s\u001b[0m eta \u001b[36m0:00:00\u001b[0m\n",
            "\u001b[?25hRequirement already satisfied: spacy<3.6.0,>=3.5.0 in /usr/local/lib/python3.9/dist-packages (from en-core-web-md==3.5.0) (3.5.1)\n",
            "Requirement already satisfied: langcodes<4.0.0,>=3.2.0 in /usr/local/lib/python3.9/dist-packages (from spacy<3.6.0,>=3.5.0->en-core-web-md==3.5.0) (3.3.0)\n",
            "Requirement already satisfied: murmurhash<1.1.0,>=0.28.0 in /usr/local/lib/python3.9/dist-packages (from spacy<3.6.0,>=3.5.0->en-core-web-md==3.5.0) (1.0.9)\n",
            "Requirement already satisfied: requests<3.0.0,>=2.13.0 in /usr/local/lib/python3.9/dist-packages (from spacy<3.6.0,>=3.5.0->en-core-web-md==3.5.0) (2.27.1)\n",
            "Requirement already satisfied: smart-open<7.0.0,>=5.2.1 in /usr/local/lib/python3.9/dist-packages (from spacy<3.6.0,>=3.5.0->en-core-web-md==3.5.0) (6.3.0)\n",
            "Requirement already satisfied: catalogue<2.1.0,>=2.0.6 in /usr/local/lib/python3.9/dist-packages (from spacy<3.6.0,>=3.5.0->en-core-web-md==3.5.0) (2.0.8)\n",
            "Requirement already satisfied: thinc<8.2.0,>=8.1.8 in /usr/local/lib/python3.9/dist-packages (from spacy<3.6.0,>=3.5.0->en-core-web-md==3.5.0) (8.1.9)\n",
            "Requirement already satisfied: pydantic!=1.8,!=1.8.1,<1.11.0,>=1.7.4 in /usr/local/lib/python3.9/dist-packages (from spacy<3.6.0,>=3.5.0->en-core-web-md==3.5.0) (1.10.7)\n",
            "Requirement already satisfied: typer<0.8.0,>=0.3.0 in /usr/local/lib/python3.9/dist-packages (from spacy<3.6.0,>=3.5.0->en-core-web-md==3.5.0) (0.7.0)\n",
            "Requirement already satisfied: tqdm<5.0.0,>=4.38.0 in /usr/local/lib/python3.9/dist-packages (from spacy<3.6.0,>=3.5.0->en-core-web-md==3.5.0) (4.65.0)\n",
            "Requirement already satisfied: cymem<2.1.0,>=2.0.2 in /usr/local/lib/python3.9/dist-packages (from spacy<3.6.0,>=3.5.0->en-core-web-md==3.5.0) (2.0.7)\n",
            "Requirement already satisfied: preshed<3.1.0,>=3.0.2 in /usr/local/lib/python3.9/dist-packages (from spacy<3.6.0,>=3.5.0->en-core-web-md==3.5.0) (3.0.8)\n",
            "Requirement already satisfied: packaging>=20.0 in /usr/local/lib/python3.9/dist-packages (from spacy<3.6.0,>=3.5.0->en-core-web-md==3.5.0) (23.0)\n",
            "Requirement already satisfied: pathy>=0.10.0 in /usr/local/lib/python3.9/dist-packages (from spacy<3.6.0,>=3.5.0->en-core-web-md==3.5.0) (0.10.1)\n",
            "Requirement already satisfied: spacy-loggers<2.0.0,>=1.0.0 in /usr/local/lib/python3.9/dist-packages (from spacy<3.6.0,>=3.5.0->en-core-web-md==3.5.0) (1.0.4)\n",
            "Requirement already satisfied: wasabi<1.2.0,>=0.9.1 in /usr/local/lib/python3.9/dist-packages (from spacy<3.6.0,>=3.5.0->en-core-web-md==3.5.0) (1.1.1)\n",
            "Requirement already satisfied: numpy>=1.15.0 in /usr/local/lib/python3.9/dist-packages (from spacy<3.6.0,>=3.5.0->en-core-web-md==3.5.0) (1.22.4)\n",
            "Requirement already satisfied: spacy-legacy<3.1.0,>=3.0.11 in /usr/local/lib/python3.9/dist-packages (from spacy<3.6.0,>=3.5.0->en-core-web-md==3.5.0) (3.0.12)\n",
            "Requirement already satisfied: jinja2 in /usr/local/lib/python3.9/dist-packages (from spacy<3.6.0,>=3.5.0->en-core-web-md==3.5.0) (3.1.2)\n",
            "Requirement already satisfied: srsly<3.0.0,>=2.4.3 in /usr/local/lib/python3.9/dist-packages (from spacy<3.6.0,>=3.5.0->en-core-web-md==3.5.0) (2.4.6)\n",
            "Requirement already satisfied: setuptools in /usr/local/lib/python3.9/dist-packages (from spacy<3.6.0,>=3.5.0->en-core-web-md==3.5.0) (67.6.1)\n",
            "Requirement already satisfied: typing-extensions>=4.2.0 in /usr/local/lib/python3.9/dist-packages (from pydantic!=1.8,!=1.8.1,<1.11.0,>=1.7.4->spacy<3.6.0,>=3.5.0->en-core-web-md==3.5.0) (4.5.0)\n",
            "Requirement already satisfied: charset-normalizer~=2.0.0 in /usr/local/lib/python3.9/dist-packages (from requests<3.0.0,>=2.13.0->spacy<3.6.0,>=3.5.0->en-core-web-md==3.5.0) (2.0.12)\n",
            "Requirement already satisfied: urllib3<1.27,>=1.21.1 in /usr/local/lib/python3.9/dist-packages (from requests<3.0.0,>=2.13.0->spacy<3.6.0,>=3.5.0->en-core-web-md==3.5.0) (1.26.15)\n",
            "Requirement already satisfied: certifi>=2017.4.17 in /usr/local/lib/python3.9/dist-packages (from requests<3.0.0,>=2.13.0->spacy<3.6.0,>=3.5.0->en-core-web-md==3.5.0) (2022.12.7)\n",
            "Requirement already satisfied: idna<4,>=2.5 in /usr/local/lib/python3.9/dist-packages (from requests<3.0.0,>=2.13.0->spacy<3.6.0,>=3.5.0->en-core-web-md==3.5.0) (3.4)\n",
            "Requirement already satisfied: blis<0.8.0,>=0.7.8 in /usr/local/lib/python3.9/dist-packages (from thinc<8.2.0,>=8.1.8->spacy<3.6.0,>=3.5.0->en-core-web-md==3.5.0) (0.7.9)\n",
            "Requirement already satisfied: confection<1.0.0,>=0.0.1 in /usr/local/lib/python3.9/dist-packages (from thinc<8.2.0,>=8.1.8->spacy<3.6.0,>=3.5.0->en-core-web-md==3.5.0) (0.0.4)\n",
            "Requirement already satisfied: click<9.0.0,>=7.1.1 in /usr/local/lib/python3.9/dist-packages (from typer<0.8.0,>=0.3.0->spacy<3.6.0,>=3.5.0->en-core-web-md==3.5.0) (8.1.3)\n",
            "Requirement already satisfied: MarkupSafe>=2.0 in /usr/local/lib/python3.9/dist-packages (from jinja2->spacy<3.6.0,>=3.5.0->en-core-web-md==3.5.0) (2.1.2)\n",
            "\u001b[38;5;2m✔ Download and installation successful\u001b[0m\n",
            "You can now load the package via spacy.load('en_core_web_md')\n"
          ]
        }
      ],
      "source": [
        "!python -m spacy download en_core_web_md"
      ]
    },
    {
      "cell_type": "code",
      "execution_count": null,
      "metadata": {
        "colab": {
          "base_uri": "https://localhost:8080/"
        },
        "id": "ZKwKYplo2NjI",
        "outputId": "7bf38472-a424-43eb-fd88-2e3317aaeb0b"
      },
      "outputs": [
        {
          "name": "stderr",
          "output_type": "stream",
          "text": [
            "[nltk_data] Downloading package punkt to /root/nltk_data...\n",
            "[nltk_data]   Package punkt is already up-to-date!\n"
          ]
        },
        {
          "data": {
            "text/plain": [
              "True"
            ]
          },
          "execution_count": 252,
          "metadata": {},
          "output_type": "execute_result"
        }
      ],
      "source": [
        "import bs4\n",
        "import requests\n",
        "from urllib.request import urlopen\n",
        "from tqdm import tqdm\n",
        "import nltk\n",
        "from nltk.tokenize import word_tokenize\n",
        "from bs4 import Doctype, NavigableString, BeautifulSoup\n",
        "import json\n",
        "import re\n",
        "import spacy\n",
        "nltk.download('punkt')"
      ]
    },
    {
      "cell_type": "markdown",
      "metadata": {
        "id": "_ZUmgETjGZh6"
      },
      "source": [
        "## Training"
      ]
    },
    {
      "cell_type": "markdown",
      "metadata": {
        "id": "ILys28Mr3lW8"
      },
      "source": [
        "### First Pass"
      ]
    },
    {
      "cell_type": "code",
      "execution_count": null,
      "metadata": {
        "id": "_1tSkCv13mWJ"
      },
      "outputs": [],
      "source": [
        "def count_template_hash(soup, freq):\n",
        "  elems = soup.find_all()\n",
        "  for elem in elems:\n",
        "    html_hsh = hash(str(elem))\n",
        "    if html_hsh in freq:\n",
        "      freq[html_hsh] += 1\n",
        "    else:\n",
        "      freq[html_hsh] = 1"
      ]
    },
    {
      "cell_type": "code",
      "execution_count": null,
      "metadata": {
        "id": "nIlqDETQ3yCz"
      },
      "outputs": [],
      "source": [
        "def calc_freq(sites):\n",
        "  freq = dict()\n",
        "\n",
        "  for url_idx in tqdm(range(len(sites))):\n",
        "    url = sites[url_idx]\n",
        "    html = urlopen(url).read()\n",
        "    soup = bs4.BeautifulSoup(html, features=\"html.parser\")\n",
        "\n",
        "    # removed Doctype\n",
        "    for item in soup.contents:\n",
        "      if isinstance(item, Doctype):\n",
        "          item.extract()\n",
        "\n",
        "    # removes script tags\n",
        "    for script in soup([\"script\"]):\n",
        "        script.extract()\n",
        "\n",
        "    count_template_hash(soup, freq)\n",
        "\n",
        "  return freq"
      ]
    },
    {
      "cell_type": "markdown",
      "metadata": {
        "id": "vrPZfb4BMWGR"
      },
      "source": [
        "### Second Pass"
      ]
    },
    {
      "cell_type": "code",
      "execution_count": null,
      "metadata": {
        "id": "THAr0aigTp-y"
      },
      "outputs": [],
      "source": [
        "# not in use\n",
        "def contains_text(soup):\n",
        "  children = soup.findChildren(recursive=False)\n",
        "  for child in children:\n",
        "    if isinstance(child, NavigableString):\n",
        "      return True\n",
        "  return False"
      ]
    },
    {
      "cell_type": "code",
      "execution_count": null,
      "metadata": {
        "id": "JBONYGv3MXJ2"
      },
      "outputs": [],
      "source": [
        "def remove_templates(soup, freq, F=2):\n",
        "  elems = soup.find_all()\n",
        "  for elem in elems:\n",
        "    html_hsh = hash(str(elem))\n",
        "    if html_hsh in freq and freq[html_hsh] >= F and not elem.name in ['h1', 'h2', 'h3', 'h4', 'h5', 'h6']:\n",
        "      elem.extract()"
      ]
    },
    {
      "cell_type": "code",
      "execution_count": null,
      "metadata": {
        "id": "akpVnLX7Io5p"
      },
      "outputs": [],
      "source": [
        "def get_anchors(soup):\n",
        "  anchors = soup.find_all(re.compile('^h[1-6]$'))\n",
        "  return set([anchor.text for anchor in anchors])"
      ]
    },
    {
      "cell_type": "code",
      "execution_count": null,
      "metadata": {
        "id": "33xTQUOXO8dY"
      },
      "outputs": [],
      "source": [
        "def get_labels(sites, freq):\n",
        "  anchors = set()\n",
        "\n",
        "  for url_idx in range(len(sites)):\n",
        "    url = sites[url_idx]\n",
        "    html = urlopen(url).read()\n",
        "    soup = bs4.BeautifulSoup(html, features=\"html.parser\")\n",
        "\n",
        "    # removed Doctype\n",
        "    for item in soup.contents:\n",
        "      if isinstance(item, Doctype):\n",
        "          item.extract()\n",
        "\n",
        "    # removes script tags\n",
        "    for script in soup([\"script\"]):\n",
        "        script.extract()\n",
        "\n",
        "    remove_templates(soup, freq)\n",
        "\n",
        "    # elems = soup.find_all()\n",
        "    # for elem in elems:\n",
        "    #   if elem.has_attr('class'):\n",
        "    #     print(elem['class'][0])\n",
        "\n",
        "    anchors = anchors.union(get_anchors(soup))\n",
        "\n",
        "  return anchors"
      ]
    },
    {
      "cell_type": "code",
      "execution_count": null,
      "metadata": {
        "id": "Mj7bdRzZYlUK"
      },
      "outputs": [],
      "source": [
        "def get_path(soup):\n",
        "  path = []\n",
        "  parent = soup.findParent()\n",
        "\n",
        "  while not parent == None:\n",
        "    path.append(parent.name)\n",
        "    parent = parent.findParent()\n",
        "\n",
        "  path.reverse()\n",
        "  return path"
      ]
    },
    {
      "cell_type": "code",
      "execution_count": null,
      "metadata": {
        "id": "nY_f9XbVKlsP"
      },
      "outputs": [],
      "source": [
        "def get_self_labeled(sites, freq, labels):\n",
        "  self_labeled = []\n",
        "  for url_idx in range(len(sites)):\n",
        "    url = sites[url_idx]\n",
        "    html = urlopen(url).read()\n",
        "    soup = bs4.BeautifulSoup(html, features=\"html.parser\")\n",
        "\n",
        "    # removed Doctype\n",
        "    for item in soup.contents:\n",
        "      if isinstance(item, Doctype):\n",
        "          item.extract()\n",
        "\n",
        "    # removes script tags\n",
        "    for script in soup([\"script\"]):\n",
        "        script.extract()\n",
        "\n",
        "    remove_templates(soup, freq)\n",
        "\n",
        "    site_labels = soup.find_all(string=labels)\n",
        "    with_labels = set()\n",
        "    for site_label in site_labels:\n",
        "      grandparent = site_label.findParent().findParent()\n",
        "      elems = grandparent.find_all(string=True, recursive=True)\n",
        "      for elem in elems:\n",
        "        with_labels.add(elem)\n",
        "\n",
        "    # print(with_labels)\n",
        "\n",
        "\n",
        "    site_text_elems = soup.find_all(string=True)\n",
        "    for site_text_elem in site_text_elems:\n",
        "      if not site_text_elem in with_labels and not site_text_elem.isspace():\n",
        "        # print('--', site_text_elem, type(site_text_elem))\n",
        "        # if site_text_elem.has_attr('class'):\n",
        "        #   print(site_text_elem['class'])\n",
        "        parent = site_text_elem.findParent()\n",
        "        if parent.has_attr('class'):\n",
        "          # print(site_text_elem, parent['class'])\n",
        "          self_labeled.append(parent['class'])\n",
        "        # self_labeled.add(tuple(get_path(site_text_elem))) # CSS Class: emails, <based on their websites>. Will be more robust since full path might not be the same\n",
        "\n",
        "  return self_labeled"
      ]
    },
    {
      "cell_type": "markdown",
      "metadata": {
        "id": "sgujJdxHa1Ix"
      },
      "source": [
        "### Train"
      ]
    },
    {
      "cell_type": "code",
      "execution_count": null,
      "metadata": {
        "id": "JJ1TzMf4Mdjx"
      },
      "outputs": [],
      "source": [
        "def train(sites):\n",
        "  freq = calc_freq(sites)\n",
        "  labels = get_labels(sites, freq)\n",
        "  self_labeled = get_self_labeled(sites, freq, labels)\n",
        "  return labels, self_labeled"
      ]
    },
    {
      "cell_type": "markdown",
      "metadata": {
        "id": "tNttHIWwa44Y"
      },
      "source": [
        "## Testing"
      ]
    },
    {
      "cell_type": "code",
      "execution_count": null,
      "metadata": {
        "id": "xSkKJpByh77A"
      },
      "outputs": [],
      "source": [
        "def get_text(soup, path):\n",
        "  if len(path) == 0:\n",
        "    return soup.find(string=True, recursive=False)\n",
        "\n",
        "  text = None\n",
        "  children = soup.findChildren(recursive=False)\n",
        "  for child in children:\n",
        "    if child.name == path[0]:\n",
        "      text = get_text(child, path[1:])\n",
        "\n",
        "  return text"
      ]
    },
    {
      "cell_type": "code",
      "execution_count": null,
      "metadata": {
        "id": "lcFB29lIl9EB"
      },
      "outputs": [],
      "source": [
        "def add_to_label_dict(d, key, vals, self_label=False):\n",
        "  if key.isspace():\n",
        "    return d\n",
        "\n",
        "  new_vals = []\n",
        "  for val in vals:\n",
        "    if not val.isspace():\n",
        "      if self_label or (not self_label and not val == key):\n",
        "        new_vals.append(val.strip())\n",
        "\n",
        "  d[key.strip()] = new_vals\n",
        "  return d"
      ]
    },
    {
      "cell_type": "code",
      "execution_count": null,
      "metadata": {
        "id": "YFD3M3lZvxwr"
      },
      "outputs": [],
      "source": [
        "def test(url, labels, self_labeled_classes):\n",
        "  html = urlopen(url).read()\n",
        "  soup = bs4.BeautifulSoup(html, features=\"html.parser\")\n",
        "\n",
        "  # removed Doctype\n",
        "  for item in soup.contents:\n",
        "    if isinstance(item, Doctype):\n",
        "        item.extract()\n",
        "\n",
        "  # removes script tags\n",
        "  for script in soup([\"script\"]):\n",
        "      script.extract()\n",
        "\n",
        "  label_dict = dict()\n",
        "\n",
        "  # add regular labels\n",
        "  for label in labels:\n",
        "    site_info = soup.find(re.compile('^h[1-6]$'), string=label)\n",
        "    if site_info:\n",
        "      parent = site_info.findParent()\n",
        "      info = parent.find_all(string=True, recursive=True)\n",
        "      label_dict = add_to_label_dict(label_dict, label, info, self_label=False)\n",
        "\n",
        "  # add self labels\n",
        "  for self_labeled_class in self_labeled_classes:\n",
        "    info = soup.find_all(attrs={\"class\":self_labeled_class})\n",
        "\n",
        "    if len(info) > 1 or len(info) == 0:\n",
        "      continue\n",
        "\n",
        "    info = info[0]\n",
        "\n",
        "    if not info == None:\n",
        "      info = info.text\n",
        "      label_dict = add_to_label_dict(label_dict, info, [info], self_label=True)\n",
        "\n",
        "  return label_dict"
      ]
    },
    {
      "cell_type": "code",
      "execution_count": null,
      "metadata": {
        "colab": {
          "base_uri": "https://localhost:8080/"
        },
        "id": "wUNoES2nax0P",
        "outputId": "d9c7c850-fb6b-4b9b-ef55-13a977cffa11"
      },
      "outputs": [
        {
          "name": "stderr",
          "output_type": "stream",
          "text": [
            "100%|██████████| 3/3 [00:01<00:00,  1.95it/s]\n"
          ]
        },
        {
          "name": "stdout",
          "output_type": "stream",
          "text": [
            "{\n",
            "    \"External Links\": [\n",
            "        \"Visit Website\"\n",
            "    ],\n",
            "    \"Biography\": [\n",
            "        \"I am a mathematician specializing in algebraic topology.\\u00a0 My research involves interactions between algebraic topology, algebraic geometry, and mathematical physics.\\u00a0 I joined the University of Illinois in 1999, and served as chair of the Department of Mathematics from 2011 to 2016. I am currently the Associate Dean of the Sciences in the College of LAS.\"\n",
            "    ],\n",
            "    \"Research Interests\": [\n",
            "        \"Homotopy theory, formal groups, analysis on loop spaces, elliptic cohomology and representation theory.\"\n",
            "    ],\n",
            "    \"Contact Information\": [\n",
            "        \"2090 Lincoln Hall\",\n",
            "        \"702 S. Wright Street, MC-448\",\n",
            "        \"Urbana, IL 61801\"\n",
            "    ],\n",
            "    \"Additional Campus Affiliations\": [\n",
            "        \"Associate Dean, College of Liberal Arts and Sciences\"\n",
            "    ],\n",
            "    \"Recent Publications\": [\n",
            "        \"Ando, M.\",\n",
            "        \", Blumberg, A. J., & Gepner, D. (2018).\",\n",
            "        \"Parametrized spectra, multiplicative thom spectra and the twisted umkehr map\",\n",
            "        \".\",\n",
            "        \"Geometry and Topology\",\n",
            "        \",\",\n",
            "        \"22\",\n",
            "        \"(7), 3761-3825.\",\n",
            "        \"https://doi.org/10.2140/gt.2018.22.3761\",\n",
            "        \"Ando, M.\",\n",
            "        \", Blumberg, A. J., Gepner, D., Hopkins, M. J.\",\n",
            "        \", & Rezk, C.\",\n",
            "        \"(2014).\",\n",
            "        \"An \\u221e-categorical approach to R-line bundles, R-module Thom spectra, and twisted R-homology\",\n",
            "        \".\",\n",
            "        \"Journal of Topology\",\n",
            "        \",\",\n",
            "        \"7\",\n",
            "        \"(3), 869-893. [jtt035].\",\n",
            "        \"https://doi.org/10.1112/jtopol/jtt035\",\n",
            "        \"Ando, M.\",\n",
            "        \", Blumberg, A. J., Gepner, D., Hopkins, M. J.\",\n",
            "        \", & Rezk, C.\",\n",
            "        \"(2013).\",\n",
            "        \"Units of ring spectra, orientations, and Thom spectra via rigid infinite loop space theory\",\n",
            "        \".\",\n",
            "        \"Journal of Topology\",\n",
            "        \",\",\n",
            "        \"7\",\n",
            "        \"(4), 1077-1117. [jtu009].\",\n",
            "        \"https://doi.org/10.1112/jtopol/jtu009\",\n",
            "        \"Ando, M.\",\n",
            "        \", & Sharpe, E. (2012).\",\n",
            "        \"Elliptic genera of landau-ginzburg models over nontrivial spaces\",\n",
            "        \".\",\n",
            "        \"Advances in Theoretical and Mathematical Physics\",\n",
            "        \",\",\n",
            "        \"16\",\n",
            "        \"(4), 1087-1144.\",\n",
            "        \"https://doi.org/10.4310/ATMP.2012.v16.n4.a1\",\n",
            "        \"Ando, M.\",\n",
            "        \", & Greenlees, J. P. C. (2011).\",\n",
            "        \"Circle-equivariant classifying spaces and the rational equivariant sigma genus\",\n",
            "        \".\",\n",
            "        \"Mathematische Zeitschrift\",\n",
            "        \",\",\n",
            "        \"269\",\n",
            "        \"(3-4), 1021-1104.\",\n",
            "        \"https://doi.org/10.1007/s00209-010-0773-7\",\n",
            "        \"View all publications on Illinois Experts\"\n",
            "    ],\n",
            "    \"Research Areas\": [\n",
            "        \"Algebraic Geometry\",\n",
            "        \"Geometry and Topology\"\n",
            "    ],\n",
            "    \"Honors & Awards\": [\n",
            "        \"LAS Deans Award for Excellence in Undergraduate Teaching, 2007\"\n",
            "    ],\n",
            "    \"Matthew Ando\": [],\n",
            "    \"Undergraduate Admissions\": [\n",
            "        \"Undergraduate Admissions\"\n",
            "    ],\n",
            "    \"College of Liberal Arts & Sciences\\nDepartment of Mathematics\": [\n",
            "        \"College of Liberal Arts & Sciences\\nDepartment of Mathematics\"\n",
            "    ]\n",
            "}\n"
          ]
        }
      ],
      "source": [
        "sites = [\n",
        "    \"https://math.illinois.edu/directory/profile/sahlgren\",\n",
        "    \"https://math.illinois.edu/directory/profile/palbin\",\n",
        "    \"https://math.illinois.edu/directory/profile/mando\"\n",
        "]\n",
        "\n",
        "labels, self_labeled_classes = train(sites)\n",
        "\n",
        "url = \"https://math.illinois.edu/directory/profile/mando\"\n",
        "label_dict = test(url, labels, self_labeled_classes)\n",
        "print(json.dumps(label_dict, indent=4))"
      ]
    }
  ],
  "metadata": {
    "colab": {
      "provenance": []
    },
    "kernelspec": {
      "display_name": "Python 3",
      "name": "python3"
    },
    "language_info": {
      "name": "python"
    }
  },
  "nbformat": 4,
  "nbformat_minor": 0
}
